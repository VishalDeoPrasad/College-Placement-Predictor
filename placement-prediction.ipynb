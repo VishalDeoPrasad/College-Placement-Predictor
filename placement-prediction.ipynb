{
 "cells": [
  {
   "cell_type": "code",
   "execution_count": 1,
   "id": "eb08edef",
   "metadata": {
    "_cell_guid": "b1076dfc-b9ad-4769-8c92-a6c4dae69d19",
    "_uuid": "8f2839f25d086af736a60e9eeb907d3b93b6e0e5",
    "execution": {
     "iopub.execute_input": "2024-01-12T20:55:01.817998Z",
     "iopub.status.busy": "2024-01-12T20:55:01.817278Z",
     "iopub.status.idle": "2024-01-12T20:55:02.303809Z",
     "shell.execute_reply": "2024-01-12T20:55:02.302072Z"
    },
    "papermill": {
     "duration": 0.504979,
     "end_time": "2024-01-12T20:55:02.306942",
     "exception": false,
     "start_time": "2024-01-12T20:55:01.801963",
     "status": "completed"
    },
    "tags": []
   },
   "outputs": [
    {
     "name": "stdout",
     "output_type": "stream",
     "text": [
      "/kaggle/input/college-placement/placement-dataset.csv\n"
     ]
    }
   ],
   "source": [
    "# This Python 3 environment comes with many helpful analytics libraries installed\n",
    "# It is defined by the kaggle/python Docker image: https://github.com/kaggle/docker-python\n",
    "# For example, here's several helpful packages to load\n",
    "\n",
    "import numpy as np # linear algebra\n",
    "import pandas as pd # data processing, CSV file I/O (e.g. pd.read_csv)\n",
    "\n",
    "# Input data files are available in the read-only \"../input/\" directory\n",
    "# For example, running this (by clicking run or pressing Shift+Enter) will list all files under the input directory\n",
    "\n",
    "import os\n",
    "for dirname, _, filenames in os.walk('/kaggle/input'):\n",
    "    for filename in filenames:\n",
    "        print(os.path.join(dirname, filename))\n",
    "\n",
    "# You can write up to 20GB to the current directory (/kaggle/working/) that gets preserved as output when you create a version using \"Save & Run All\" \n",
    "# You can also write temporary files to /kaggle/temp/, but they won't be saved outside of the current session"
   ]
  },
  {
   "cell_type": "code",
   "execution_count": 2,
   "id": "6d2a1f48",
   "metadata": {
    "execution": {
     "iopub.execute_input": "2024-01-12T20:55:02.333606Z",
     "iopub.status.busy": "2024-01-12T20:55:02.332774Z",
     "iopub.status.idle": "2024-01-12T20:55:04.707009Z",
     "shell.execute_reply": "2024-01-12T20:55:04.705611Z"
    },
    "papermill": {
     "duration": 2.391671,
     "end_time": "2024-01-12T20:55:04.711377",
     "exception": false,
     "start_time": "2024-01-12T20:55:02.319706",
     "status": "completed"
    },
    "tags": []
   },
   "outputs": [],
   "source": [
    "import matplotlib.pyplot as plt\n",
    "import seaborn as sns\n",
    "from sklearn.linear_model import LogisticRegression\n",
    "from sklearn.metrics import accuracy_score"
   ]
  },
  {
   "cell_type": "code",
   "execution_count": 3,
   "id": "928a52a8",
   "metadata": {
    "execution": {
     "iopub.execute_input": "2024-01-12T20:55:04.738327Z",
     "iopub.status.busy": "2024-01-12T20:55:04.737760Z",
     "iopub.status.idle": "2024-01-12T20:55:04.794134Z",
     "shell.execute_reply": "2024-01-12T20:55:04.792442Z"
    },
    "papermill": {
     "duration": 0.073693,
     "end_time": "2024-01-12T20:55:04.797082",
     "exception": false,
     "start_time": "2024-01-12T20:55:04.723389",
     "status": "completed"
    },
    "tags": []
   },
   "outputs": [
    {
     "data": {
      "text/html": [
       "<div>\n",
       "<style scoped>\n",
       "    .dataframe tbody tr th:only-of-type {\n",
       "        vertical-align: middle;\n",
       "    }\n",
       "\n",
       "    .dataframe tbody tr th {\n",
       "        vertical-align: top;\n",
       "    }\n",
       "\n",
       "    .dataframe thead th {\n",
       "        text-align: right;\n",
       "    }\n",
       "</style>\n",
       "<table border=\"1\" class=\"dataframe\">\n",
       "  <thead>\n",
       "    <tr style=\"text-align: right;\">\n",
       "      <th></th>\n",
       "      <th>cgpa</th>\n",
       "      <th>iq</th>\n",
       "      <th>placement</th>\n",
       "    </tr>\n",
       "  </thead>\n",
       "  <tbody>\n",
       "    <tr>\n",
       "      <th>0</th>\n",
       "      <td>6.8</td>\n",
       "      <td>123.0</td>\n",
       "      <td>1</td>\n",
       "    </tr>\n",
       "    <tr>\n",
       "      <th>1</th>\n",
       "      <td>5.9</td>\n",
       "      <td>106.0</td>\n",
       "      <td>0</td>\n",
       "    </tr>\n",
       "    <tr>\n",
       "      <th>2</th>\n",
       "      <td>5.3</td>\n",
       "      <td>121.0</td>\n",
       "      <td>0</td>\n",
       "    </tr>\n",
       "    <tr>\n",
       "      <th>3</th>\n",
       "      <td>7.4</td>\n",
       "      <td>132.0</td>\n",
       "      <td>1</td>\n",
       "    </tr>\n",
       "    <tr>\n",
       "      <th>4</th>\n",
       "      <td>5.8</td>\n",
       "      <td>142.0</td>\n",
       "      <td>0</td>\n",
       "    </tr>\n",
       "  </tbody>\n",
       "</table>\n",
       "</div>"
      ],
      "text/plain": [
       "   cgpa     iq  placement\n",
       "0   6.8  123.0          1\n",
       "1   5.9  106.0          0\n",
       "2   5.3  121.0          0\n",
       "3   7.4  132.0          1\n",
       "4   5.8  142.0          0"
      ]
     },
     "execution_count": 3,
     "metadata": {},
     "output_type": "execute_result"
    }
   ],
   "source": [
    "df = pd.read_csv('/kaggle/input/college-placement/placement-dataset.csv', index_col='Unnamed: 0')\n",
    "df.head(5)"
   ]
  },
  {
   "cell_type": "code",
   "execution_count": 4,
   "id": "22b9c9cf",
   "metadata": {
    "execution": {
     "iopub.execute_input": "2024-01-12T20:55:04.824244Z",
     "iopub.status.busy": "2024-01-12T20:55:04.823722Z",
     "iopub.status.idle": "2024-01-12T20:55:04.856385Z",
     "shell.execute_reply": "2024-01-12T20:55:04.854796Z"
    },
    "papermill": {
     "duration": 0.050282,
     "end_time": "2024-01-12T20:55:04.859781",
     "exception": false,
     "start_time": "2024-01-12T20:55:04.809499",
     "status": "completed"
    },
    "tags": []
   },
   "outputs": [
    {
     "data": {
      "text/html": [
       "<div>\n",
       "<style scoped>\n",
       "    .dataframe tbody tr th:only-of-type {\n",
       "        vertical-align: middle;\n",
       "    }\n",
       "\n",
       "    .dataframe tbody tr th {\n",
       "        vertical-align: top;\n",
       "    }\n",
       "\n",
       "    .dataframe thead th {\n",
       "        text-align: right;\n",
       "    }\n",
       "</style>\n",
       "<table border=\"1\" class=\"dataframe\">\n",
       "  <thead>\n",
       "    <tr style=\"text-align: right;\">\n",
       "      <th></th>\n",
       "      <th>count</th>\n",
       "      <th>mean</th>\n",
       "      <th>std</th>\n",
       "      <th>min</th>\n",
       "      <th>25%</th>\n",
       "      <th>50%</th>\n",
       "      <th>75%</th>\n",
       "      <th>max</th>\n",
       "    </tr>\n",
       "  </thead>\n",
       "  <tbody>\n",
       "    <tr>\n",
       "      <th>cgpa</th>\n",
       "      <td>100.0</td>\n",
       "      <td>5.991</td>\n",
       "      <td>1.143634</td>\n",
       "      <td>3.3</td>\n",
       "      <td>5.075</td>\n",
       "      <td>6.0</td>\n",
       "      <td>6.9</td>\n",
       "      <td>8.5</td>\n",
       "    </tr>\n",
       "    <tr>\n",
       "      <th>iq</th>\n",
       "      <td>100.0</td>\n",
       "      <td>123.580</td>\n",
       "      <td>39.944198</td>\n",
       "      <td>37.0</td>\n",
       "      <td>101.500</td>\n",
       "      <td>127.5</td>\n",
       "      <td>149.0</td>\n",
       "      <td>233.0</td>\n",
       "    </tr>\n",
       "    <tr>\n",
       "      <th>placement</th>\n",
       "      <td>100.0</td>\n",
       "      <td>0.500</td>\n",
       "      <td>0.502519</td>\n",
       "      <td>0.0</td>\n",
       "      <td>0.000</td>\n",
       "      <td>0.5</td>\n",
       "      <td>1.0</td>\n",
       "      <td>1.0</td>\n",
       "    </tr>\n",
       "  </tbody>\n",
       "</table>\n",
       "</div>"
      ],
      "text/plain": [
       "           count     mean        std   min      25%    50%    75%    max\n",
       "cgpa       100.0    5.991   1.143634   3.3    5.075    6.0    6.9    8.5\n",
       "iq         100.0  123.580  39.944198  37.0  101.500  127.5  149.0  233.0\n",
       "placement  100.0    0.500   0.502519   0.0    0.000    0.5    1.0    1.0"
      ]
     },
     "execution_count": 4,
     "metadata": {},
     "output_type": "execute_result"
    }
   ],
   "source": [
    "df.describe().T\n"
   ]
  },
  {
   "cell_type": "markdown",
   "id": "e69c7dc2",
   "metadata": {
    "papermill": {
     "duration": 0.011848,
     "end_time": "2024-01-12T20:55:04.883958",
     "exception": false,
     "start_time": "2024-01-12T20:55:04.872110",
     "status": "completed"
    },
    "tags": []
   },
   "source": [
    "## Data Visualization\n",
    "Histogram:\n",
    "- A histogram is a graphical representation of the distribution of a dataset. It is a way to visualize the underlying frequency distribution of a continuous variable. \n",
    "- In a histogram, the data is divided into intervals (bins), and the number of data points falling into each interval is represented by the height of a bar.\n",
    "\n",
    "Advantage:\n",
    "- Probability Distribution\n",
    "- Campair \n",
    "- Most Frequent \n",
    "- Summerize"
   ]
  },
  {
   "cell_type": "code",
   "execution_count": 5,
   "id": "ebbbafb6",
   "metadata": {
    "execution": {
     "iopub.execute_input": "2024-01-12T20:55:04.910903Z",
     "iopub.status.busy": "2024-01-12T20:55:04.910451Z",
     "iopub.status.idle": "2024-01-12T20:55:05.455357Z",
     "shell.execute_reply": "2024-01-12T20:55:05.453384Z"
    },
    "papermill": {
     "duration": 0.562403,
     "end_time": "2024-01-12T20:55:05.458656",
     "exception": false,
     "start_time": "2024-01-12T20:55:04.896253",
     "status": "completed"
    },
    "tags": []
   },
   "outputs": [
    {
     "data": {
      "text/plain": [
       "Text(0.5, 1.0, 'CGPA Distribution')"
      ]
     },
     "execution_count": 5,
     "metadata": {},
     "output_type": "execute_result"
    },
    {
     "data": {
      "image/png": "[encoded data removed]",
      "text/plain": [
       "<Figure size 1000x600 with 1 Axes>"
      ]
     },
     "metadata": {},
     "output_type": "display_data"
    }
   ],
   "source": [
    "#Let's plot the distribution of the data \n",
    "plt.figure(figsize=(10,6))\n",
    "sns.histplot(df.cgpa,kde = True, bins=3, binwidth=0.5)\n",
    "plt.title('CGPA Distribution')"
   ]
  },
  {
   "cell_type": "code",
   "execution_count": 6,
   "id": "9f783d95",
   "metadata": {
    "execution": {
     "iopub.execute_input": "2024-01-12T20:55:05.489320Z",
     "iopub.status.busy": "2024-01-12T20:55:05.487638Z",
     "iopub.status.idle": "2024-01-12T20:55:05.993142Z",
     "shell.execute_reply": "2024-01-12T20:55:05.990743Z"
    },
    "papermill": {
     "duration": 0.524302,
     "end_time": "2024-01-12T20:55:05.996993",
     "exception": false,
     "start_time": "2024-01-12T20:55:05.472691",
     "status": "completed"
    },
    "tags": []
   },
   "outputs": [
    {
     "data": {
      "text/plain": [
       "Text(0.5, 1.0, 'iq Distribution')"
      ]
     },
     "execution_count": 6,
     "metadata": {},
     "output_type": "execute_result"
    },
    {
     "data": {
      "image/png": "[encoded data removed]",
      "text/plain": [
       "<Figure size 1000x600 with 1 Axes>"
      ]
     },
     "metadata": {},
     "output_type": "display_data"
    }
   ],
   "source": [
    "plt.figure(figsize=(10,6))\n",
    "sns.histplot(df.iq, kde = True)\n",
    "plt.title('iq Distribution')"
   ]
  },
  {
   "cell_type": "markdown",
   "id": "76e03b3b",
   "metadata": {
    "papermill": {
     "duration": 0.014377,
     "end_time": "2024-01-12T20:55:06.026637",
     "exception": false,
     "start_time": "2024-01-12T20:55:06.012260",
     "status": "completed"
    },
    "tags": []
   },
   "source": [
    "### Check if the **CGPA** follow normal distribution\n",
    "> If the p-value is greater than the significance level __(commonly 0.05)__, you would fail to reject the null hypothesis. This would suggest that there isn't enough evidence to conclude that the __CGPA__ data significantly deviates from a normal distribution."
   ]
  },
  {
   "cell_type": "code",
   "execution_count": 7,
   "id": "bf6cf058",
   "metadata": {
    "execution": {
     "iopub.execute_input": "2024-01-12T20:55:06.057637Z",
     "iopub.status.busy": "2024-01-12T20:55:06.056921Z",
     "iopub.status.idle": "2024-01-12T20:55:06.063666Z",
     "shell.execute_reply": "2024-01-12T20:55:06.062386Z"
    },
    "papermill": {
     "duration": 0.025444,
     "end_time": "2024-01-12T20:55:06.066332",
     "exception": false,
     "start_time": "2024-01-12T20:55:06.040888",
     "status": "completed"
    },
    "tags": []
   },
   "outputs": [
    {
     "name": "stdout",
     "output_type": "stream",
     "text": [
      "0.9849948287010193 0.3173207938671112\n"
     ]
    }
   ],
   "source": [
    "from scipy.stats import shapiro\n",
    "statistic, p_value = shapiro(df.cgpa)\n",
    "print(statistic,p_value)"
   ]
  },
  {
   "cell_type": "markdown",
   "id": "5337787a",
   "metadata": {
    "papermill": {
     "duration": 0.013103,
     "end_time": "2024-01-12T20:55:06.093587",
     "exception": false,
     "start_time": "2024-01-12T20:55:06.080484",
     "status": "completed"
    },
    "tags": []
   },
   "source": [
    "### Check if the **IQ** follow normal distribution\n",
    "> If the p-value is greater than the significance level __(commonly 0.05)__, you would fail to reject the null hypothesis. This would suggest that there isn't enough evidence to conclude that the __IQ__ data significantly deviates from a normal distribution."
   ]
  },
  {
   "cell_type": "code",
   "execution_count": 8,
   "id": "0c34f54d",
   "metadata": {
    "execution": {
     "iopub.execute_input": "2024-01-12T20:55:06.122693Z",
     "iopub.status.busy": "2024-01-12T20:55:06.122240Z",
     "iopub.status.idle": "2024-01-12T20:55:06.128676Z",
     "shell.execute_reply": "2024-01-12T20:55:06.127821Z"
    },
    "papermill": {
     "duration": 0.024486,
     "end_time": "2024-01-12T20:55:06.131901",
     "exception": false,
     "start_time": "2024-01-12T20:55:06.107415",
     "status": "completed"
    },
    "tags": []
   },
   "outputs": [
    {
     "name": "stdout",
     "output_type": "stream",
     "text": [
      "0.9866256713867188 0.4129476547241211\n"
     ]
    }
   ],
   "source": [
    "from scipy.stats import shapiro\n",
    "statistic, p_value = shapiro(df.iq)\n",
    "print(statistic,p_value)"
   ]
  },
  {
   "cell_type": "code",
   "execution_count": 9,
   "id": "ad8272b3",
   "metadata": {
    "execution": {
     "iopub.execute_input": "2024-01-12T20:55:06.161304Z",
     "iopub.status.busy": "2024-01-12T20:55:06.160816Z",
     "iopub.status.idle": "2024-01-12T20:55:06.176962Z",
     "shell.execute_reply": "2024-01-12T20:55:06.175707Z"
    },
    "papermill": {
     "duration": 0.033809,
     "end_time": "2024-01-12T20:55:06.179422",
     "exception": false,
     "start_time": "2024-01-12T20:55:06.145613",
     "status": "completed"
    },
    "tags": []
   },
   "outputs": [
    {
     "data": {
      "text/html": [
       "<div>\n",
       "<style scoped>\n",
       "    .dataframe tbody tr th:only-of-type {\n",
       "        vertical-align: middle;\n",
       "    }\n",
       "\n",
       "    .dataframe tbody tr th {\n",
       "        vertical-align: top;\n",
       "    }\n",
       "\n",
       "    .dataframe thead th {\n",
       "        text-align: right;\n",
       "    }\n",
       "</style>\n",
       "<table border=\"1\" class=\"dataframe\">\n",
       "  <thead>\n",
       "    <tr style=\"text-align: right;\">\n",
       "      <th></th>\n",
       "      <th>cgpa</th>\n",
       "      <th>iq</th>\n",
       "      <th>placement</th>\n",
       "    </tr>\n",
       "  </thead>\n",
       "  <tbody>\n",
       "    <tr>\n",
       "      <th>cgpa</th>\n",
       "      <td>1.000000</td>\n",
       "      <td>-0.098791</td>\n",
       "      <td>0.821688</td>\n",
       "    </tr>\n",
       "    <tr>\n",
       "      <th>iq</th>\n",
       "      <td>-0.098791</td>\n",
       "      <td>1.000000</td>\n",
       "      <td>-0.083031</td>\n",
       "    </tr>\n",
       "    <tr>\n",
       "      <th>placement</th>\n",
       "      <td>0.821688</td>\n",
       "      <td>-0.083031</td>\n",
       "      <td>1.000000</td>\n",
       "    </tr>\n",
       "  </tbody>\n",
       "</table>\n",
       "</div>"
      ],
      "text/plain": [
       "               cgpa        iq  placement\n",
       "cgpa       1.000000 -0.098791   0.821688\n",
       "iq        -0.098791  1.000000  -0.083031\n",
       "placement  0.821688 -0.083031   1.000000"
      ]
     },
     "execution_count": 9,
     "metadata": {},
     "output_type": "execute_result"
    }
   ],
   "source": [
    "df.corr()"
   ]
  },
  {
   "cell_type": "markdown",
   "id": "a82bdd4f",
   "metadata": {
    "papermill": {
     "duration": 0.015734,
     "end_time": "2024-01-12T20:55:06.209396",
     "exception": false,
     "start_time": "2024-01-12T20:55:06.193662",
     "status": "completed"
    },
    "tags": []
   },
   "source": [
    "### Scatter Plot:\n",
    "- Scatter plot show the corelation between data points or big data, it show changes of one data how it effect the other data.\n",
    "- it can show the outliers and we can remove it.\n",
    "- Also known Scatter Plot, X-Y plot, Scatter Chart, Correllation chart.\n",
    "- Help to find the corellation between 2 points, for example; \n",
    "    * study_time vs marks: Higher the study time higher the marks\n",
    "    * it show the linear corellation \n",
    "- Degree of Corellation:\n",
    "    * None, Low, High, Perfect\n",
    "- Type of Corellation:\n",
    "    * Positive: Lower to Higher\n",
    "    * Negative: Higher to lower\n",
    "    * Curved  : Combination of both +ve and -ve corelation\n",
    "    * Partical: at a certain data it show corelation \n",
    "    "
   ]
  },
  {
   "cell_type": "markdown",
   "id": "62b38399",
   "metadata": {
    "papermill": {
     "duration": 0.017399,
     "end_time": "2024-01-12T20:55:06.245884",
     "exception": false,
     "start_time": "2024-01-12T20:55:06.228485",
     "status": "completed"
    },
    "tags": []
   },
   "source": []
  },
  {
   "cell_type": "code",
   "execution_count": 10,
   "id": "2b36636e",
   "metadata": {
    "execution": {
     "iopub.execute_input": "2024-01-12T20:55:06.282638Z",
     "iopub.status.busy": "2024-01-12T20:55:06.282165Z",
     "iopub.status.idle": "2024-01-12T20:55:06.782614Z",
     "shell.execute_reply": "2024-01-12T20:55:06.781321Z"
    },
    "papermill": {
     "duration": 0.522236,
     "end_time": "2024-01-12T20:55:06.785590",
     "exception": false,
     "start_time": "2024-01-12T20:55:06.263354",
     "status": "completed"
    },
    "tags": []
   },
   "outputs": [
    {
     "data": {
      "image/png": "[encoded data removed]",
      "text/plain": [
       "<Figure size 640x480 with 1 Axes>"
      ]
     },
     "metadata": {},
     "output_type": "display_data"
    }
   ],
   "source": [
    "import matplotlib.pyplot as plt\n",
    "scatter = plt.scatter(df['cgpa'], df['iq'], c=df['placement'])\n",
    "\n",
    "# Add legend based on unique values in the 'placement' column\n",
    "plt.legend(*scatter.legend_elements(), title='Placement')\n",
    "\n",
    "# Labeling the axes\n",
    "plt.xlabel('CGPA')\n",
    "plt.ylabel('IQ')\n",
    "\n",
    "# Show the plot\n",
    "plt.show()"
   ]
  },
  {
   "cell_type": "code",
   "execution_count": 11,
   "id": "4f845f68",
   "metadata": {
    "execution": {
     "iopub.execute_input": "2024-01-12T20:55:06.819691Z",
     "iopub.status.busy": "2024-01-12T20:55:06.818833Z",
     "iopub.status.idle": "2024-01-12T20:55:10.512111Z",
     "shell.execute_reply": "2024-01-12T20:55:10.510686Z"
    },
    "papermill": {
     "duration": 3.714452,
     "end_time": "2024-01-12T20:55:10.515383",
     "exception": false,
     "start_time": "2024-01-12T20:55:06.800931",
     "status": "completed"
    },
    "tags": []
   },
   "outputs": [
    {
     "data": {
      "text/plain": [
       "<seaborn.axisgrid.PairGrid at 0x7d5b9154bd90>"
      ]
     },
     "execution_count": 11,
     "metadata": {},
     "output_type": "execute_result"
    },
    {
     "data": {
      "image/png": "[encoded data removed]",
      "text/plain": [
       "<Figure size 750x750 with 12 Axes>"
      ]
     },
     "metadata": {},
     "output_type": "display_data"
    }
   ],
   "source": [
    "import seaborn as sns\n",
    "sns.pairplot(df)"
   ]
  },
  {
   "cell_type": "markdown",
   "id": "e2cdc9df",
   "metadata": {
    "papermill": {
     "duration": 0.016855,
     "end_time": "2024-01-12T20:55:10.548791",
     "exception": false,
     "start_time": "2024-01-12T20:55:10.531936",
     "status": "completed"
    },
    "tags": []
   },
   "source": [
    "## Divide Dependent an Independent data"
   ]
  },
  {
   "cell_type": "code",
   "execution_count": 12,
   "id": "ee1f6fe8",
   "metadata": {
    "execution": {
     "iopub.execute_input": "2024-01-12T20:55:10.583850Z",
     "iopub.status.busy": "2024-01-12T20:55:10.582559Z",
     "iopub.status.idle": "2024-01-12T20:55:10.589764Z",
     "shell.execute_reply": "2024-01-12T20:55:10.588667Z"
    },
    "papermill": {
     "duration": 0.026979,
     "end_time": "2024-01-12T20:55:10.592520",
     "exception": false,
     "start_time": "2024-01-12T20:55:10.565541",
     "status": "completed"
    },
    "tags": []
   },
   "outputs": [],
   "source": [
    "X = df.iloc[:,:2]\n",
    "y = df.iloc[:,-1]"
   ]
  },
  {
   "cell_type": "code",
   "execution_count": 13,
   "id": "d8981926",
   "metadata": {
    "execution": {
     "iopub.execute_input": "2024-01-12T20:55:10.627139Z",
     "iopub.status.busy": "2024-01-12T20:55:10.626582Z",
     "iopub.status.idle": "2024-01-12T20:55:10.640979Z",
     "shell.execute_reply": "2024-01-12T20:55:10.639386Z"
    },
    "papermill": {
     "duration": 0.035365,
     "end_time": "2024-01-12T20:55:10.644223",
     "exception": false,
     "start_time": "2024-01-12T20:55:10.608858",
     "status": "completed"
    },
    "tags": []
   },
   "outputs": [
    {
     "data": {
      "text/html": [
       "<div>\n",
       "<style scoped>\n",
       "    .dataframe tbody tr th:only-of-type {\n",
       "        vertical-align: middle;\n",
       "    }\n",
       "\n",
       "    .dataframe tbody tr th {\n",
       "        vertical-align: top;\n",
       "    }\n",
       "\n",
       "    .dataframe thead th {\n",
       "        text-align: right;\n",
       "    }\n",
       "</style>\n",
       "<table border=\"1\" class=\"dataframe\">\n",
       "  <thead>\n",
       "    <tr style=\"text-align: right;\">\n",
       "      <th></th>\n",
       "      <th>cgpa</th>\n",
       "      <th>iq</th>\n",
       "    </tr>\n",
       "  </thead>\n",
       "  <tbody>\n",
       "    <tr>\n",
       "      <th>0</th>\n",
       "      <td>6.8</td>\n",
       "      <td>123.0</td>\n",
       "    </tr>\n",
       "    <tr>\n",
       "      <th>1</th>\n",
       "      <td>5.9</td>\n",
       "      <td>106.0</td>\n",
       "    </tr>\n",
       "    <tr>\n",
       "      <th>2</th>\n",
       "      <td>5.3</td>\n",
       "      <td>121.0</td>\n",
       "    </tr>\n",
       "    <tr>\n",
       "      <th>3</th>\n",
       "      <td>7.4</td>\n",
       "      <td>132.0</td>\n",
       "    </tr>\n",
       "    <tr>\n",
       "      <th>4</th>\n",
       "      <td>5.8</td>\n",
       "      <td>142.0</td>\n",
       "    </tr>\n",
       "  </tbody>\n",
       "</table>\n",
       "</div>"
      ],
      "text/plain": [
       "   cgpa     iq\n",
       "0   6.8  123.0\n",
       "1   5.9  106.0\n",
       "2   5.3  121.0\n",
       "3   7.4  132.0\n",
       "4   5.8  142.0"
      ]
     },
     "execution_count": 13,
     "metadata": {},
     "output_type": "execute_result"
    }
   ],
   "source": [
    "X.head()"
   ]
  },
  {
   "cell_type": "code",
   "execution_count": 14,
   "id": "dec4f0d1",
   "metadata": {
    "execution": {
     "iopub.execute_input": "2024-01-12T20:55:10.681047Z",
     "iopub.status.busy": "2024-01-12T20:55:10.680565Z",
     "iopub.status.idle": "2024-01-12T20:55:10.690249Z",
     "shell.execute_reply": "2024-01-12T20:55:10.688611Z"
    },
    "papermill": {
     "duration": 0.03168,
     "end_time": "2024-01-12T20:55:10.693966",
     "exception": false,
     "start_time": "2024-01-12T20:55:10.662286",
     "status": "completed"
    },
    "tags": []
   },
   "outputs": [
    {
     "data": {
      "text/plain": [
       "0    1\n",
       "1    0\n",
       "2    0\n",
       "3    1\n",
       "4    0\n",
       "Name: placement, dtype: int64"
      ]
     },
     "execution_count": 14,
     "metadata": {},
     "output_type": "execute_result"
    }
   ],
   "source": [
    "y.head()"
   ]
  },
  {
   "cell_type": "markdown",
   "id": "e571cac1",
   "metadata": {
    "execution": {
     "iopub.execute_input": "2024-01-11T19:05:29.614872Z",
     "iopub.status.busy": "2024-01-11T19:05:29.614559Z",
     "iopub.status.idle": "2024-01-11T19:05:29.620207Z",
     "shell.execute_reply": "2024-01-11T19:05:29.618609Z",
     "shell.execute_reply.started": "2024-01-11T19:05:29.614846Z"
    },
    "papermill": {
     "duration": 0.015792,
     "end_time": "2024-01-12T20:55:10.726963",
     "exception": false,
     "start_time": "2024-01-12T20:55:10.711171",
     "status": "completed"
    },
    "tags": []
   },
   "source": [
    "## Split the data into training and testing"
   ]
  },
  {
   "cell_type": "code",
   "execution_count": 15,
   "id": "f405d47e",
   "metadata": {
    "execution": {
     "iopub.execute_input": "2024-01-12T20:55:10.764486Z",
     "iopub.status.busy": "2024-01-12T20:55:10.764070Z",
     "iopub.status.idle": "2024-01-12T20:55:10.772484Z",
     "shell.execute_reply": "2024-01-12T20:55:10.770943Z"
    },
    "papermill": {
     "duration": 0.029277,
     "end_time": "2024-01-12T20:55:10.775215",
     "exception": false,
     "start_time": "2024-01-12T20:55:10.745938",
     "status": "completed"
    },
    "tags": []
   },
   "outputs": [],
   "source": [
    "from sklearn.model_selection import train_test_split\n",
    "X_train, X_test, y_train, y_test = train_test_split(X, y, test_size=0.2,)"
   ]
  },
  {
   "cell_type": "code",
   "execution_count": 16,
   "id": "0472980c",
   "metadata": {
    "execution": {
     "iopub.execute_input": "2024-01-12T20:55:10.885886Z",
     "iopub.status.busy": "2024-01-12T20:55:10.885363Z",
     "iopub.status.idle": "2024-01-12T20:55:10.892848Z",
     "shell.execute_reply": "2024-01-12T20:55:10.891876Z"
    },
    "papermill": {
     "duration": 0.028429,
     "end_time": "2024-01-12T20:55:10.895682",
     "exception": false,
     "start_time": "2024-01-12T20:55:10.867253",
     "status": "completed"
    },
    "tags": []
   },
   "outputs": [
    {
     "data": {
      "text/plain": [
       "((80, 2), (20, 2), (80,), (20,))"
      ]
     },
     "execution_count": 16,
     "metadata": {},
     "output_type": "execute_result"
    }
   ],
   "source": [
    "X_train.shape, X_test.shape, y_train.shape, y_test.shape"
   ]
  },
  {
   "cell_type": "markdown",
   "id": "8c4c0111",
   "metadata": {
    "papermill": {
     "duration": 0.018389,
     "end_time": "2024-01-12T20:55:10.930849",
     "exception": false,
     "start_time": "2024-01-12T20:55:10.912460",
     "status": "completed"
    },
    "tags": []
   },
   "source": [
    "## Scale the data"
   ]
  },
  {
   "cell_type": "code",
   "execution_count": 17,
   "id": "ae1e38d2",
   "metadata": {
    "execution": {
     "iopub.execute_input": "2024-01-12T20:55:10.966662Z",
     "iopub.status.busy": "2024-01-12T20:55:10.966164Z",
     "iopub.status.idle": "2024-01-12T20:55:10.975214Z",
     "shell.execute_reply": "2024-01-12T20:55:10.973834Z"
    },
    "papermill": {
     "duration": 0.030423,
     "end_time": "2024-01-12T20:55:10.977886",
     "exception": false,
     "start_time": "2024-01-12T20:55:10.947463",
     "status": "completed"
    },
    "tags": []
   },
   "outputs": [],
   "source": [
    "from sklearn.preprocessing import MinMaxScaler\n",
    "x = MinMaxScaler().fit_transform(np.array(df.cgpa).reshape(-1,1))\n",
    "y = MinMaxScaler().fit_transform(np.array(df.iq).reshape(-1,1))"
   ]
  },
  {
   "cell_type": "code",
   "execution_count": 18,
   "id": "324b8cb3",
   "metadata": {
    "execution": {
     "iopub.execute_input": "2024-01-12T20:55:11.014239Z",
     "iopub.status.busy": "2024-01-12T20:55:11.013716Z",
     "iopub.status.idle": "2024-01-12T20:55:11.031714Z",
     "shell.execute_reply": "2024-01-12T20:55:11.030239Z"
    },
    "papermill": {
     "duration": 0.040251,
     "end_time": "2024-01-12T20:55:11.035265",
     "exception": false,
     "start_time": "2024-01-12T20:55:10.995014",
     "status": "completed"
    },
    "tags": []
   },
   "outputs": [
    {
     "name": "stdout",
     "output_type": "stream",
     "text": [
      "Test Data:\n",
      " [[ 0.09813391  0.52735535]\n",
      " [-0.49920291  0.01226408]\n",
      " [-0.24320142 -0.06132039]\n",
      " [ 1.29280754 -1.80281944]\n",
      " [-1.0112059   0.15943301]]\n",
      "\n",
      "Train Data:\n",
      " [[-1.41023456 -2.02134474]\n",
      " [ 0.00664161 -1.40609713]\n",
      " [ 0.89218921  2.00340002]\n",
      " [ 0.62652493  0.84981076]\n",
      " [-1.14457028  0.0038453 ]]\n"
     ]
    }
   ],
   "source": [
    "from sklearn.preprocessing import StandardScaler\n",
    "scaler = StandardScaler()\n",
    "X_train = scaler.fit_transform(X_train)\n",
    "X_test = scaler.fit_transform(X_test)\n",
    "print(\"Test Data:\\n\",X_test[:5,:])\n",
    "print(\"\\nTrain Data:\\n\",X_train[:5,:])"
   ]
  },
  {
   "cell_type": "markdown",
   "id": "d7177106",
   "metadata": {
    "execution": {
     "iopub.execute_input": "2024-01-11T19:14:07.133798Z",
     "iopub.status.busy": "2024-01-11T19:14:07.133406Z",
     "iopub.status.idle": "2024-01-11T19:14:07.140188Z",
     "shell.execute_reply": "2024-01-11T19:14:07.137928Z",
     "shell.execute_reply.started": "2024-01-11T19:14:07.133750Z"
    },
    "papermill": {
     "duration": 0.017291,
     "end_time": "2024-01-12T20:55:11.069457",
     "exception": false,
     "start_time": "2024-01-12T20:55:11.052166",
     "status": "completed"
    },
    "tags": []
   },
   "source": [
    "## Train a model use logistic regression"
   ]
  },
  {
   "cell_type": "code",
   "execution_count": 19,
   "id": "4324e188",
   "metadata": {
    "execution": {
     "iopub.execute_input": "2024-01-12T20:55:11.106583Z",
     "iopub.status.busy": "2024-01-12T20:55:11.105387Z",
     "iopub.status.idle": "2024-01-12T20:55:11.124497Z",
     "shell.execute_reply": "2024-01-12T20:55:11.123146Z"
    },
    "papermill": {
     "duration": 0.041769,
     "end_time": "2024-01-12T20:55:11.127908",
     "exception": false,
     "start_time": "2024-01-12T20:55:11.086139",
     "status": "completed"
    },
    "tags": []
   },
   "outputs": [
    {
     "name": "stdout",
     "output_type": "stream",
     "text": [
      "0.75\n"
     ]
    }
   ],
   "source": [
    "def LogisticModol(X_train, y_train):\n",
    "    clf = LogisticRegression()\n",
    "    clf.fit(X_train,y_train)\n",
    "    y_prec = clf.predict(X_test)\n",
    "    score = accuracy_score(y_test,y_prec)\n",
    "    return clf, score\n",
    "clf, score = LogisticModol(X_train, y_train)\n",
    "print(score)"
   ]
  },
  {
   "cell_type": "markdown",
   "id": "e37250cb",
   "metadata": {
    "papermill": {
     "duration": 0.016609,
     "end_time": "2024-01-12T20:55:11.162573",
     "exception": false,
     "start_time": "2024-01-12T20:55:11.145964",
     "status": "completed"
    },
    "tags": []
   },
   "source": [
    "## Visulaize the Decision Boundary"
   ]
  },
  {
   "cell_type": "code",
   "execution_count": 20,
   "id": "a45f76e2",
   "metadata": {
    "execution": {
     "iopub.execute_input": "2024-01-12T20:55:11.198384Z",
     "iopub.status.busy": "2024-01-12T20:55:11.197283Z",
     "iopub.status.idle": "2024-01-12T20:55:11.772941Z",
     "shell.execute_reply": "2024-01-12T20:55:11.771623Z"
    },
    "papermill": {
     "duration": 0.596648,
     "end_time": "2024-01-12T20:55:11.775829",
     "exception": false,
     "start_time": "2024-01-12T20:55:11.179181",
     "status": "completed"
    },
    "tags": []
   },
   "outputs": [
    {
     "data": {
      "text/plain": [
       "<Axes: >"
      ]
     },
     "execution_count": 20,
     "metadata": {},
     "output_type": "execute_result"
    },
    {
     "data": {
      "image/png": "[encoded data removed]",
      "text/plain": [
       "<Figure size 640x480 with 1 Axes>"
      ]
     },
     "metadata": {},
     "output_type": "display_data"
    }
   ],
   "source": [
    "from mlxtend.plotting import plot_decision_regions\n",
    "plot_decision_regions(X_train, y_train.values, clf=clf, legend=2)"
   ]
  },
  {
   "cell_type": "markdown",
   "id": "430e294b",
   "metadata": {
    "papermill": {
     "duration": 0.017044,
     "end_time": "2024-01-12T20:55:11.811549",
     "exception": false,
     "start_time": "2024-01-12T20:55:11.794505",
     "status": "completed"
    },
    "tags": []
   },
   "source": [
    "### For Optimizing hyperparameters of a Support Vector Machine (SVM) classifier, we are using Optuna library."
   ]
  },
  {
   "cell_type": "markdown",
   "id": "0bb3e889",
   "metadata": {
    "papermill": {
     "duration": 0.018429,
     "end_time": "2024-01-12T20:55:11.847303",
     "exception": false,
     "start_time": "2024-01-12T20:55:11.828874",
     "status": "completed"
    },
    "tags": []
   },
   "source": [
    "## Optimization Techniques\n",
    ">these 1, 2 optimzation techiniques are perform well when we have smaller number of parameter to be optimize. and when parameters get increase these optimization gets computational expensive. it is like an iteration where it check for one by one.\n",
    "1. GridSearchCV Optimzation\n",
    "1. RandomSearchCV Optimzation\n",
    "1. Bayesian Optimzaiton \n",
    ">To Implement Bayesian Optimzation we are using Optuna Library."
   ]
  },
  {
   "cell_type": "code",
   "execution_count": 21,
   "id": "31929839",
   "metadata": {
    "execution": {
     "iopub.execute_input": "2024-01-12T20:55:11.883816Z",
     "iopub.status.busy": "2024-01-12T20:55:11.883391Z",
     "iopub.status.idle": "2024-01-12T20:55:31.635470Z",
     "shell.execute_reply": "2024-01-12T20:55:31.633930Z"
    },
    "papermill": {
     "duration": 19.773915,
     "end_time": "2024-01-12T20:55:31.638639",
     "exception": false,
     "start_time": "2024-01-12T20:55:11.864724",
     "status": "completed"
    },
    "tags": []
   },
   "outputs": [
    {
     "name": "stderr",
     "output_type": "stream",
     "text": [
      "[I 2024-01-12 20:55:13,852] A new study created in memory with name: no-name-818bbec3-a7b6-49f0-ae16-286f5f22f3c7\n",
      "[I 2024-01-12 20:55:17,044] Trial 0 finished with value: 0.9373219373219372 and parameters: {'criterion': 'gini', 'max_depth': 4, 'n_estimators': 253}. Best is trial 0 with value: 0.9373219373219372.\n",
      "[I 2024-01-12 20:55:19,282] Trial 1 finished with value: 0.9249762583095916 and parameters: {'criterion': 'entropy', 'max_depth': 22, 'n_estimators': 380}. Best is trial 0 with value: 0.9373219373219372.\n",
      "[I 2024-01-12 20:55:20,180] Trial 2 finished with value: 0.9373219373219372 and parameters: {'criterion': 'gini', 'max_depth': 4, 'n_estimators': 271}. Best is trial 0 with value: 0.9373219373219372.\n",
      "[I 2024-01-12 20:55:21,019] Trial 3 finished with value: 0.9249762583095915 and parameters: {'criterion': 'gini', 'max_depth': 4, 'n_estimators': 257}. Best is trial 0 with value: 0.9373219373219372.\n",
      "[I 2024-01-12 20:55:21,624] Trial 4 finished with value: 0.9002849002849004 and parameters: {'criterion': 'gini', 'max_depth': 4, 'n_estimators': 166}. Best is trial 0 with value: 0.9373219373219372.\n",
      "[I 2024-01-12 20:55:22,358] Trial 5 finished with value: 0.9249762583095915 and parameters: {'criterion': 'gini', 'max_depth': 7, 'n_estimators': 194}. Best is trial 0 with value: 0.9373219373219372.\n",
      "[I 2024-01-12 20:55:23,699] Trial 6 finished with value: 0.9373219373219372 and parameters: {'criterion': 'gini', 'max_depth': 10, 'n_estimators': 380}. Best is trial 0 with value: 0.9373219373219372.\n",
      "[I 2024-01-12 20:55:24,463] Trial 7 finished with value: 0.9249762583095915 and parameters: {'criterion': 'entropy', 'max_depth': 3, 'n_estimators': 232}. Best is trial 0 with value: 0.9373219373219372.\n",
      "[I 2024-01-12 20:55:25,403] Trial 8 finished with value: 0.9249762583095915 and parameters: {'criterion': 'entropy', 'max_depth': 13, 'n_estimators': 288}. Best is trial 0 with value: 0.9373219373219372.\n",
      "[I 2024-01-12 20:55:26,442] Trial 9 finished with value: 0.9126305792972461 and parameters: {'criterion': 'entropy', 'max_depth': 2, 'n_estimators': 303}. Best is trial 0 with value: 0.9373219373219372.\n",
      "[I 2024-01-12 20:55:26,819] Trial 10 finished with value: 0.9373219373219372 and parameters: {'criterion': 'gini', 'max_depth': 32, 'n_estimators': 101}. Best is trial 0 with value: 0.9373219373219372.\n",
      "[I 2024-01-12 20:55:28,457] Trial 11 finished with value: 0.9126305792972461 and parameters: {'criterion': 'gini', 'max_depth': 2, 'n_estimators': 494}. Best is trial 0 with value: 0.9373219373219372.\n",
      "[I 2024-01-12 20:55:29,561] Trial 12 finished with value: 0.9373219373219372 and parameters: {'criterion': 'gini', 'max_depth': 5, 'n_estimators': 338}. Best is trial 0 with value: 0.9373219373219372.\n",
      "[I 2024-01-12 20:55:30,147] Trial 13 finished with value: 0.9249762583095915 and parameters: {'criterion': 'gini', 'max_depth': 7, 'n_estimators': 172}. Best is trial 0 with value: 0.9373219373219372.\n",
      "[I 2024-01-12 20:55:31,627] Trial 14 finished with value: 0.9249762583095915 and parameters: {'criterion': 'gini', 'max_depth': 3, 'n_estimators': 453}. Best is trial 0 with value: 0.9373219373219372.\n"
     ]
    }
   ],
   "source": [
    "import optuna\n",
    "\n",
    "import sklearn.datasets\n",
    "from sklearn.ensemble import RandomForestClassifier\n",
    "from sklearn.model_selection import cross_val_score\n",
    "\n",
    "\n",
    "def objective(trial):\n",
    "    iris = sklearn.datasets.load_iris()\n",
    "    x, y = iris.data, iris.target\n",
    "\n",
    "    criterion = trial.suggest_categorical(\"criterion\", [\"gini\", \"entropy\"])\n",
    "    max_depth = trial.suggest_int(\"max_depth\", 2, 32, log=True)\n",
    "    n_estimators = trial.suggest_int(\"n_estimators\", 100,500)\n",
    "\n",
    "    rf = sklearn.ensemble.RandomForestClassifier(criterion =criterion,\n",
    "            max_depth=max_depth, \n",
    "            n_estimators=n_estimators\n",
    "        )\n",
    "\n",
    "    score = cross_val_score(rf, X_train, y_train, n_jobs=-1, cv=3)\n",
    "    accuracy = score.mean()\n",
    "    return accuracy\n",
    "\n",
    "\n",
    "study = optuna.create_study(direction=\"maximize\")\n",
    "study.optimize(objective, n_trials=15)"
   ]
  },
  {
   "cell_type": "code",
   "execution_count": 22,
   "id": "ef5d5847",
   "metadata": {
    "execution": {
     "iopub.execute_input": "2024-01-12T20:55:31.680356Z",
     "iopub.status.busy": "2024-01-12T20:55:31.679586Z",
     "iopub.status.idle": "2024-01-12T20:55:31.686688Z",
     "shell.execute_reply": "2024-01-12T20:55:31.685339Z"
    },
    "papermill": {
     "duration": 0.031652,
     "end_time": "2024-01-12T20:55:31.689352",
     "exception": false,
     "start_time": "2024-01-12T20:55:31.657700",
     "status": "completed"
    },
    "tags": []
   },
   "outputs": [
    {
     "name": "stdout",
     "output_type": "stream",
     "text": [
      "Accuracy: 0.9373219373219372\n",
      "Best hyperparameters: {'criterion': 'gini', 'max_depth': 4, 'n_estimators': 253}\n"
     ]
    }
   ],
   "source": [
    "trial = study.best_trial\n",
    "print('Accuracy: {}'.format(trial.value))\n",
    "print(\"Best hyperparameters: {}\".format(trial.params))"
   ]
  },
  {
   "cell_type": "code",
   "execution_count": 23,
   "id": "c330035d",
   "metadata": {
    "execution": {
     "iopub.execute_input": "2024-01-12T20:55:31.732023Z",
     "iopub.status.busy": "2024-01-12T20:55:31.731130Z",
     "iopub.status.idle": "2024-01-12T20:55:32.133371Z",
     "shell.execute_reply": "2024-01-12T20:55:32.131989Z"
    },
    "papermill": {
     "duration": 0.427328,
     "end_time": "2024-01-12T20:55:32.136200",
     "exception": false,
     "start_time": "2024-01-12T20:55:31.708872",
     "status": "completed"
    },
    "tags": []
   },
   "outputs": [
    {
     "name": "stderr",
     "output_type": "stream",
     "text": [
      "[I 2024-01-12 20:55:31,739] A new study created in memory with name: no-name-aa4046e2-e9fa-4246-b84f-09355018112e\n",
      "[I 2024-01-12 20:55:31,760] Trial 0 finished with value: 0.9121557454890787 and parameters: {'C': 26.790039585368017, 'kernel': 'sigmoid', 'gamma': 'scale'}. Best is trial 0 with value: 0.9121557454890787.\n",
      "[I 2024-01-12 20:55:31,784] Trial 1 finished with value: 0.9121557454890787 and parameters: {'C': 87.77411440053906, 'kernel': 'poly', 'degree': 3, 'gamma': 'auto'}. Best is trial 0 with value: 0.9121557454890787.\n",
      "[I 2024-01-12 20:55:31,808] Trial 2 finished with value: 0.8243114909781576 and parameters: {'C': 31.640327314305154, 'kernel': 'poly', 'degree': 5, 'gamma': 'auto'}. Best is trial 0 with value: 0.9121557454890787.\n",
      "[I 2024-01-12 20:55:31,837] Trial 3 finished with value: 0.4121557454890788 and parameters: {'C': 17.65264581167319, 'kernel': 'poly', 'degree': 4, 'gamma': 'scale'}. Best is trial 0 with value: 0.9121557454890787.\n",
      "[I 2024-01-12 20:55:31,854] Trial 4 finished with value: 0.9506172839506172 and parameters: {'C': 33.7275433172043, 'kernel': 'rbf', 'gamma': 'scale'}. Best is trial 4 with value: 0.9506172839506172.\n",
      "[I 2024-01-12 20:55:31,883] Trial 5 finished with value: 0.9373219373219372 and parameters: {'C': 46.37890828713723, 'kernel': 'linear'}. Best is trial 4 with value: 0.9506172839506172.\n",
      "[I 2024-01-12 20:55:31,911] Trial 6 finished with value: 0.9753086419753085 and parameters: {'C': 95.01544026942365, 'kernel': 'rbf', 'gamma': 'scale'}. Best is trial 6 with value: 0.9753086419753085.\n",
      "[I 2024-01-12 20:55:31,928] Trial 7 finished with value: 0.9373219373219372 and parameters: {'C': 38.65943200995954, 'kernel': 'linear'}. Best is trial 6 with value: 0.9753086419753085.\n",
      "[I 2024-01-12 20:55:31,956] Trial 8 finished with value: 0.4121557454890788 and parameters: {'C': 43.42506502488669, 'kernel': 'poly', 'degree': 4, 'gamma': 'auto'}. Best is trial 6 with value: 0.9753086419753085.\n",
      "[I 2024-01-12 20:55:31,977] Trial 9 finished with value: 0.46248812915479576 and parameters: {'C': 26.721051192878775, 'kernel': 'poly', 'degree': 2, 'gamma': 'scale'}. Best is trial 6 with value: 0.9753086419753085.\n",
      "[I 2024-01-12 20:55:32,011] Trial 10 finished with value: 0.9753086419753085 and parameters: {'C': 94.56727366099737, 'kernel': 'rbf', 'gamma': 'scale'}. Best is trial 6 with value: 0.9753086419753085.\n",
      "[I 2024-01-12 20:55:32,039] Trial 11 finished with value: 0.9753086419753085 and parameters: {'C': 92.01885218141317, 'kernel': 'rbf', 'gamma': 'scale'}. Best is trial 6 with value: 0.9753086419753085.\n",
      "[I 2024-01-12 20:55:32,066] Trial 12 finished with value: 0.9753086419753085 and parameters: {'C': 70.83049540903816, 'kernel': 'rbf', 'gamma': 'scale'}. Best is trial 6 with value: 0.9753086419753085.\n",
      "[I 2024-01-12 20:55:32,097] Trial 13 finished with value: 0.9753086419753085 and parameters: {'C': 68.68105648635452, 'kernel': 'rbf', 'gamma': 'scale'}. Best is trial 6 with value: 0.9753086419753085.\n",
      "[I 2024-01-12 20:55:32,128] Trial 14 finished with value: 0.9753086419753085 and parameters: {'C': 99.2676854226637, 'kernel': 'rbf', 'gamma': 'scale'}. Best is trial 6 with value: 0.9753086419753085.\n"
     ]
    }
   ],
   "source": [
    "import optuna\n",
    "from sklearn.svm import SVC\n",
    "from sklearn.datasets import load_iris\n",
    "from sklearn.model_selection import cross_val_score, train_test_split\n",
    "\n",
    "def objective(trial):\n",
    "    # Hyperparameter search space\n",
    "    C = trial.suggest_float('C', 1e-5, 100)\n",
    "    kernel = trial.suggest_categorical('kernel', ['linear', 'rbf', 'poly', 'sigmoid'])\n",
    "    degree = trial.suggest_int('degree', 2, 5) if kernel == 'poly' else None\n",
    "    gamma = trial.suggest_categorical('gamma', ['scale', 'auto']) if kernel in ['rbf', 'poly', 'sigmoid'] else 'scale'\n",
    "\n",
    "    # Create SVM model\n",
    "    if kernel == 'poly':\n",
    "        svc = SVC(C=C, kernel=kernel, degree=degree, gamma=gamma)\n",
    "    else:\n",
    "        svc = SVC(C=C, kernel=kernel, gamma=gamma)\n",
    "\n",
    "    # Evaluate the model using cross-validation\n",
    "    score = cross_val_score(svc, X_train, y_train, n_jobs=-1, cv=3)\n",
    "    accuracy = score.mean()\n",
    "    return accuracy\n",
    "\n",
    "# Create Optuna study and optimize hyperparameters\n",
    "study = optuna.create_study(direction=\"maximize\")\n",
    "study.optimize(objective, n_trials=15)"
   ]
  },
  {
   "cell_type": "code",
   "execution_count": 24,
   "id": "becb7aee",
   "metadata": {
    "execution": {
     "iopub.execute_input": "2024-01-12T20:55:32.181989Z",
     "iopub.status.busy": "2024-01-12T20:55:32.180770Z",
     "iopub.status.idle": "2024-01-12T20:55:32.193868Z",
     "shell.execute_reply": "2024-01-12T20:55:32.192151Z"
    },
    "papermill": {
     "duration": 0.039242,
     "end_time": "2024-01-12T20:55:32.196955",
     "exception": false,
     "start_time": "2024-01-12T20:55:32.157713",
     "status": "completed"
    },
    "tags": []
   },
   "outputs": [
    {
     "name": "stdout",
     "output_type": "stream",
     "text": [
      "Best Parameters: {'C': 95.01544026942365, 'kernel': 'rbf', 'gamma': 'scale'}\n",
      "Test Accuracy: 0.75\n"
     ]
    }
   ],
   "source": [
    "# Get the best parameters\n",
    "best_params = study.best_params\n",
    "print(\"Best Parameters:\", best_params)\n",
    "\n",
    "# Train the final model with the best parameters on the entire training set\n",
    "best_svc = SVC(**best_params)\n",
    "best_svc.fit(X_train, y_train)\n",
    "\n",
    "# Evaluate the final model on the test set\n",
    "test_accuracy = best_svc.score(X_test, y_test)\n",
    "print(\"Test Accuracy:\", test_accuracy)"
   ]
  },
  {
   "cell_type": "code",
   "execution_count": null,
   "id": "5002632d",
   "metadata": {
    "papermill": {
     "duration": 0.020546,
     "end_time": "2024-01-12T20:55:32.238127",
     "exception": false,
     "start_time": "2024-01-12T20:55:32.217581",
     "status": "completed"
    },
    "tags": []
   },
   "outputs": [],
   "source": []
  }
 ],
 "metadata": {
  "kaggle": {
   "accelerator": "none",
   "dataSources": [
    {
     "datasetId": 4233528,
     "sourceId": 7298157,
     "sourceType": "datasetVersion"
    }
   ],
   "dockerImageVersionId": 30635,
   "isGpuEnabled": false,
   "isInternetEnabled": true,
   "language": "python",
   "sourceType": "notebook"
  },
  "kernelspec": {
   "display_name": "Python 3",
   "language": "python",
   "name": "python3"
  },
  "language_info": {
   "codemirror_mode": {
    "name": "ipython",
    "version": 3
   },
   "file_extension": ".py",
   "mimetype": "text/x-python",
   "name": "python",
   "nbconvert_exporter": "python",
   "pygments_lexer": "ipython3",
   "version": "3.10.12"
  },
  "papermill": {
   "default_parameters": {},
   "duration": 36.961592,
   "end_time": "2024-01-12T20:55:34.880983",
   "environment_variables": {},
   "exception": null,
   "input_path": "__notebook__.ipynb",
   "output_path": "__notebook__.ipynb",
   "parameters": {},
   "start_time": "2024-01-12T20:54:57.919391",
   "version": "2.4.0"
  }
 },
 "nbformat": 4,
 "nbformat_minor": 5
}
